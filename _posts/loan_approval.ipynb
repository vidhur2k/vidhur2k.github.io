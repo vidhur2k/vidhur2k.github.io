{
 "cells": [
  {
   "cell_type": "markdown",
   "metadata": {},
   "source": [
    "# \"Should this loan be approved or denied?\": A Classification Case Study"
   ]
  },
  {
   "cell_type": "markdown",
   "metadata": {},
   "source": [
    "## I. Problem Statement\n",
    "\n",
    "You have recently joined Fidelity Investments as an Analytics intern and the senior data scientist decides to test your ability to apply the skills you have learned! He throws some loan data at you and asks you to determine whether each person will have their loan approved depending on the risk of them defaulting."
   ]
  },
  {
   "cell_type": "markdown",
   "metadata": {},
   "source": [
    "## II. Questions to ask ourselves\n",
    "\n",
    "1. Why is this a classification problem? What are we classifying?\n",
    "2. What are the dependent and independent variables?\n",
    "3. Is this a binary or multi-class classification problem?\n",
    "3. What are some classifiication algorithms we can apply to solve this problem?"
   ]
  },
  {
   "cell_type": "markdown",
   "metadata": {},
   "source": [
    "### Perform the necessary imports\n",
    "\n",
    "**Note: If you don't have some of the packages installed, here is a list of commands you can run to install them:**\n",
    "\n",
    "1. numpy: `conda install numpy`\n",
    "2. pandas: `conda install pandas`\n",
    "3. scikit-learn: `conda install scikit-learn`\n",
    "4. matplotlib: `conda install matplotlib`\n",
    "5. seaborn: `conda install seaborn`"
   ]
  },
  {
   "cell_type": "code",
   "execution_count": 1,
   "metadata": {},
   "outputs": [],
   "source": [
    "%matplotlib inline\n",
    "import numpy as np\n",
    "np.seterr(divide='ignore')\n",
    "import math\n",
    "import pandas as pd\n",
    "from sklearn.linear_model import LogisticRegression\n",
    "from sklearn.model_selection import train_test_split\n",
    "from sklearn.preprocessing import OneHotEncoder\n",
    "from sklearn import metrics\n",
    "import matplotlib.pyplot as plt\n",
    "import seaborn as sns"
   ]
  },
  {
   "cell_type": "markdown",
   "metadata": {},
   "source": [
    "### Read the data in using Pandas\n",
    "\n",
    "Save the data in the CSV file provided into a variable named 'data'."
   ]
  },
  {
   "cell_type": "code",
   "execution_count": 2,
   "metadata": {},
   "outputs": [],
   "source": [
    "data = pd.<INSERT COMMAND HERE>('credit_risk.csv')"
   ]
  },
  {
   "cell_type": "markdown",
   "metadata": {},
   "source": [
    "## III. Let's visualize!\n",
    "\n",
    "Before we begin training our model, it is useful to see how the features are distributed as it would help us understand which features are correlated and would also help us isolate any red flags with the data."
   ]
  },
  {
   "cell_type": "markdown",
   "metadata": {},
   "source": [
    "### Let us begin with a general bar plot of the loan approval statuses\n",
    "\n",
    "This will help us determine whether a class is underrepresented. Interpret the bar plot below. "
   ]
  },
  {
   "cell_type": "code",
   "execution_count": 3,
   "metadata": {},
   "outputs": [
    {
     "data": {
      "text/plain": [
       "<matplotlib.axes._subplots.AxesSubplot at 0x1a1ceced30>"
      ]
     },
     "execution_count": 3,
     "metadata": {},
     "output_type": "execute_result"
    },
    {
     "data": {
      "image/png": "[encoded data removed]",
      "text/plain": [
       "<Figure size 432x288 with 1 Axes>"
      ]
     },
     "metadata": {
      "needs_background": "light"
     },
     "output_type": "display_data"
    }
   ],
   "source": [
    "sns.countplot(x='Loan_Status', data=data, palette=\"Set2\")"
   ]
  },
  {
   "cell_type": "markdown",
   "metadata": {},
   "source": [
    "### Onto the distributions!\n",
    "\n",
    "Let us see how the variables we picked are distributed to make sure that we have covered all bases when we preprocessed the data.\n",
    "\n",
    "We will look at the distributions for following three variables:\n",
    "\n",
    "1. Applicant income\n",
    "2. Coapplicant income\n",
    "3. Loan Amount\n",
    "4. Credit history\n",
    "\n",
    "Additionally, we will also look at\n",
    "\n",
    "1. A count plot to see how many of the applicants are graduates.\n",
    "2. A count plot to see how many of the applicants are self employed.\n",
    "3. A scatter plot of the range of loans that were approved or denied."
   ]
  },
  {
   "cell_type": "code",
   "execution_count": 4,
   "metadata": {},
   "outputs": [
    {
     "name": "stderr",
     "output_type": "stream",
     "text": [
      "/Users/vidhur2k/anaconda3/lib/python3.7/site-packages/scipy/stats/stats.py:1713: FutureWarning: Using a non-tuple sequence for multidimensional indexing is deprecated; use `arr[tuple(seq)]` instead of `arr[seq]`. In the future this will be interpreted as an array index, `arr[np.array(seq)]`, which will result either in an error or a different result.\n",
      "  return np.add.reduce(sorted[indexer] * weights, axis=axis) / sumval\n"
     ]
    },
    {
     "data": {
      "text/plain": [
       "<matplotlib.axes._subplots.AxesSubplot at 0x10960d6d8>"
      ]
     },
     "execution_count": 4,
     "metadata": {},
     "output_type": "execute_result"
    },
    {
     "data": {
      "image/png": "[encoded data removed]",
      "text/plain": [
       "<Figure size 432x288 with 2 Axes>"
      ]
     },
     "metadata": {
      "needs_background": "light"
     },
     "output_type": "display_data"
    }
   ],
   "source": [
    "fig, ax =plt.subplots(1,2)\n",
    "\n",
    "# Standard plot\n",
    "sns.distplot(data['ApplicantIncome'], kde=False, color='r', ax=ax[0])\n",
    "\n",
    "# Log plot\n",
    "applicantIncomeCol = np.log(data['ApplicantIncome'])\n",
    "applicantIncomeCol = applicantIncomeCol.replace([np.inf, -np.inf], 0)\n",
    "\n",
    "sns.distplot(applicantIncomeCol, kde=False, color='r', ax=ax[1])"
   ]
  },
  {
   "cell_type": "code",
   "execution_count": 5,
   "metadata": {},
   "outputs": [
    {
     "data": {
      "text/plain": [
       "<matplotlib.axes._subplots.AxesSubplot at 0x1a1d4456d8>"
      ]
     },
     "execution_count": 5,
     "metadata": {},
     "output_type": "execute_result"
    },
    {
     "data": {
      "image/png": "[encoded data removed]",
      "text/plain": [
       "<Figure size 432x288 with 2 Axes>"
      ]
     },
     "metadata": {
      "needs_background": "light"
     },
     "output_type": "display_data"
    }
   ],
   "source": [
    "fig, ax =plt.subplots(1,2)\n",
    "\n",
    "# Standard plot\n",
    "sns.distplot(data['CoapplicantIncome'], kde=False, color='r', ax=ax[0])\n",
    "\n",
    "# Log plot\n",
    "coapplicantIncomeCol = np.log(data['CoapplicantIncome'])\n",
    "coapplicantIncomeCol = coapplicantIncomeCol.replace([np.inf, -np.inf], 0)\n",
    "\n",
    "sns.distplot(coapplicantIncomeCol, kde=False, color='r', ax=ax[1])"
   ]
  },
  {
   "cell_type": "code",
   "execution_count": 6,
   "metadata": {},
   "outputs": [
    {
     "data": {
      "text/plain": [
       "<matplotlib.axes._subplots.AxesSubplot at 0x1a1d56c978>"
      ]
     },
     "execution_count": 6,
     "metadata": {},
     "output_type": "execute_result"
    },
    {
     "data": {
      "image/png": "[encoded data removed]",
      "text/plain": [
       "<Figure size 432x288 with 2 Axes>"
      ]
     },
     "metadata": {
      "needs_background": "light"
     },
     "output_type": "display_data"
    }
   ],
   "source": [
    "fig, ax =plt.subplots(1,2)\n",
    "\n",
    "# Standard plot\n",
    "sns.distplot(data.dropna()['LoanAmount'], kde=False, color='r', ax=ax[0])\n",
    "\n",
    "# Log plot\n",
    "loanAmountCol = np.log(data.dropna()['LoanAmount'])\n",
    "loanAmountCol = loanAmountCol.replace([np.inf, -np.inf], 0)\n",
    "\n",
    "sns.distplot(loanAmountCol, kde=False, color='r', ax=ax[1])"
   ]
  },
  {
   "cell_type": "code",
   "execution_count": 7,
   "metadata": {},
   "outputs": [
    {
     "data": {
      "text/plain": [
       "<matplotlib.axes._subplots.AxesSubplot at 0x1a1d713f98>"
      ]
     },
     "execution_count": 7,
     "metadata": {},
     "output_type": "execute_result"
    },
    {
     "data": {
      "image/png": "[encoded data removed]",
      "text/plain": [
       "<Figure size 432x288 with 1 Axes>"
      ]
     },
     "metadata": {
      "needs_background": "light"
     },
     "output_type": "display_data"
    }
   ],
   "source": [
    "sns.distplot(data.dropna()['Credit_History'], kde=False, color='r')"
   ]
  },
  {
   "cell_type": "code",
   "execution_count": 8,
   "metadata": {},
   "outputs": [
    {
     "data": {
      "text/plain": [
       "<matplotlib.axes._subplots.AxesSubplot at 0x1a1d7df278>"
      ]
     },
     "execution_count": 8,
     "metadata": {},
     "output_type": "execute_result"
    },
    {
     "data": {
      "image/png": "[encoded data removed]",
      "text/plain": [
       "<Figure size 432x288 with 1 Axes>"
      ]
     },
     "metadata": {
      "needs_background": "light"
     },
     "output_type": "display_data"
    }
   ],
   "source": [
    "sns.countplot(x=\"Self_Employed\", hue=\"Gender\", data=data.dropna())"
   ]
  },
  {
   "cell_type": "code",
   "execution_count": 9,
   "metadata": {},
   "outputs": [
    {
     "data": {
      "text/plain": [
       "<matplotlib.axes._subplots.AxesSubplot at 0x1a1d8b6588>"
      ]
     },
     "execution_count": 9,
     "metadata": {},
     "output_type": "execute_result"
    },
    {
     "data": {
      "image/png": "[encoded data removed]",
      "text/plain": [
       "<Figure size 432x288 with 1 Axes>"
      ]
     },
     "metadata": {
      "needs_background": "light"
     },
     "output_type": "display_data"
    }
   ],
   "source": [
    "sns.countplot(x=\"Education\", hue=\"Gender\", data=data)"
   ]
  },
  {
   "cell_type": "code",
   "execution_count": 10,
   "metadata": {},
   "outputs": [
    {
     "data": {
      "text/plain": [
       "<seaborn.axisgrid.FacetGrid at 0x1a1d805128>"
      ]
     },
     "execution_count": 10,
     "metadata": {},
     "output_type": "execute_result"
    },
    {
     "data": {
      "image/png": "[encoded data removed]",
      "text/plain": [
       "<Figure size 466.625x360 with 1 Axes>"
      ]
     },
     "metadata": {
      "needs_background": "light"
     },
     "output_type": "display_data"
    }
   ],
   "source": [
    "sns.relplot(x=\"LoanAmount\", y=\"Loan_Status\", hue=\"Property_Area\", data=data)"
   ]
  },
  {
   "cell_type": "markdown",
   "metadata": {},
   "source": [
    "## IV. Preprocessing our data\n",
    "\n",
    "Before we begin using our data to train the model, it is necessary for us to perform some preliminary data exploration and cleaning to make sure that the dataset we have is usable."
   ]
  },
  {
   "cell_type": "markdown",
   "metadata": {},
   "source": [
    "### Let us check for missing values\n",
    "\n",
    "It is important for us to understand how many values in each column are missing and whether or not removing/replacing them changes the distribution of the data in any particular way."
   ]
  },
  {
   "cell_type": "code",
   "execution_count": 11,
   "metadata": {},
   "outputs": [
    {
     "data": {
      "text/plain": [
       "Loan_ID              0.000000\n",
       "Gender               2.446483\n",
       "Married              0.305810\n",
       "Dependents           2.548420\n",
       "Education            0.000000\n",
       "Self_Employed        5.606524\n",
       "ApplicantIncome      0.000000\n",
       "CoapplicantIncome    0.000000\n",
       "LoanAmount           2.752294\n",
       "Loan_Amount_Term     2.038736\n",
       "Credit_History       8.053007\n",
       "Property_Area        0.000000\n",
       "Loan_Status          0.000000\n",
       "dtype: float64"
      ]
     },
     "execution_count": 11,
     "metadata": {},
     "output_type": "execute_result"
    }
   ],
   "source": [
    "data.isnull().sum(axis = 0) / data.shape[0] * 100 "
   ]
  },
  {
   "cell_type": "markdown",
   "metadata": {},
   "source": [
    "### Removing unncessary columns\n",
    "\n",
    "In our case, the Loan ID is unnecessary when determining whether or not the loan will be approved. Therefore, we do not need it."
   ]
  },
  {
   "cell_type": "code",
   "execution_count": 12,
   "metadata": {},
   "outputs": [],
   "source": [
    "data.drop(['Loan_ID'], axis = 1, inplace=True)\n",
    "\n",
    "# Drop null and NAN values from the data.\n",
    "data.dropna(inplace=True)\n",
    "\n",
    "# This is our target vector\n",
    "y = data.Loan_Status\n",
    "\n",
    "# We will drop the target column from our dataframe as it is not a feature.\n",
    "data.drop(['Loan_Status'], axis = 1, inplace=True)"
   ]
  },
  {
   "cell_type": "markdown",
   "metadata": {},
   "source": [
    "### Let us visualize the Correlation matrix\n",
    "\n",
    "We can use seaborn's heatmap to visualize the correlation matrix for our dataset. This will help us check the relative independence between the variables. The entry at (i, j) is the correlation coefficient between the variables at row 'i' and column 'j' respectively.\n",
    "\n",
    "Do you see any pairs of variables with a significant correlation?"
   ]
  },
  {
   "cell_type": "code",
   "execution_count": 13,
   "metadata": {},
   "outputs": [
    {
     "data": {
      "text/plain": [
       "<matplotlib.axes._subplots.AxesSubplot at 0x10a03d1d0>"
      ]
     },
     "execution_count": 13,
     "metadata": {},
     "output_type": "execute_result"
    },
    {
     "data": {
      "image/png": "[encoded data removed]",
      "text/plain": [
       "<Figure size 432x288 with 2 Axes>"
      ]
     },
     "metadata": {
      "needs_background": "light"
     },
     "output_type": "display_data"
    }
   ],
   "source": [
    "sns.heatmap(data.corr())"
   ]
  },
  {
   "cell_type": "markdown",
   "metadata": {},
   "source": [
    "### Cateogorical Label Encoding\n",
    "\n",
    "Categorical encoding is a necessary step in data preprocessing. While using any of the classification methods that we learnt, it becomes necessary for us to map any categorical values to numeric values in order to train the model on those values. In our case, we will use one hot encoding to encode the categorical variables.\n",
    "\n",
    "#### Which variables are categorical in our dataset?"
   ]
  },
  {
   "cell_type": "code",
   "execution_count": 14,
   "metadata": {},
   "outputs": [],
   "source": [
    "# Replace the categorical values with the numeric equivalents that we have above\n",
    "categoricalFeatures = ['Property_Area', 'Gender', 'Married', 'Dependents', 'Education', 'Self_Employed']\n",
    "\n",
    "# Iterate through the list of categorical features and one hot encode them.\n",
    "for feature in categoricalFeatures:\n",
    "    onehot = pd.get_dummies(data[feature], prefix=feature)\n",
    "    data = data.drop(feature, axis=1)\n",
    "    data = data.join(onehot)"
   ]
  },
  {
   "cell_type": "markdown",
   "metadata": {},
   "source": [
    "## V. Training the model\n",
    "\n",
    "As discussed before, we'll use logistic regression to classify the data points. This is an apt choice because we have two classes (binary classifcation) and the output is discrete."
   ]
  },
  {
   "cell_type": "code",
   "execution_count": 15,
   "metadata": {},
   "outputs": [],
   "source": [
    "# Liblinear is a solver that is effective for relatively smaller datasets.\n",
    "lr = LogisticRegression(solver='liblinear')"
   ]
  },
  {
   "cell_type": "code",
   "execution_count": 21,
   "metadata": {},
   "outputs": [],
   "source": [
    "# We will follow an 80-20 split pattern for our training and test data\n",
    "X_train,X_test,y_train,y_test = train_test_split(data, y, test_size=0.2, random_state = 0)"
   ]
  },
  {
   "cell_type": "code",
   "execution_count": 22,
   "metadata": {},
   "outputs": [
    {
     "data": {
      "text/plain": [
       "LogisticRegression(C=1.0, class_weight=None, dual=False, fit_intercept=True,\n",
       "          intercept_scaling=1, max_iter=100, multi_class='warn',\n",
       "          n_jobs=None, penalty='l2', random_state=None, solver='liblinear',\n",
       "          tol=0.0001, verbose=0, warm_start=False)"
      ]
     },
     "execution_count": 22,
     "metadata": {},
     "output_type": "execute_result"
    }
   ],
   "source": [
    "lr.fit(X_train, y_train)"
   ]
  },
  {
   "cell_type": "markdown",
   "metadata": {},
   "source": [
    "## VI. Evaluating the performance using the metrics we learned\n",
    "\n",
    "Recall that we went over a few methods to check how well our model is performing. The confusion matrix helps us determine where the model is getting 'confused'. Using the heatmap visualization feature provided by seaborn, we can plot the confusion matrix.\n",
    "\n",
    "First, let us recall the following metrics:\n",
    "\n",
    "1. Accuracy\n",
    "2. Precision\n",
    "3. Recall"
   ]
  },
  {
   "cell_type": "code",
   "execution_count": 23,
   "metadata": {},
   "outputs": [],
   "source": [
    "# We will compare this vector of predictions to the actual target vector to determine the model performance.\n",
    "y_pred = lr.predict(X_test)\n",
    "\n",
    "# Build the confusion matrix.\n",
    "confusion_matrix = metrics.confusion_matrix(y_test, y_pred)"
   ]
  },
  {
   "cell_type": "code",
   "execution_count": 24,
   "metadata": {},
   "outputs": [
    {
     "data": {
      "text/plain": [
       "Text(0.5, 257.44, 'Predicted label')"
      ]
     },
     "execution_count": 24,
     "metadata": {},
     "output_type": "execute_result"
    },
    {
     "data": {
      "image/png": "[encoded data removed]",
      "text/plain": [
       "<Figure size 432x288 with 2 Axes>"
      ]
     },
     "metadata": {
      "needs_background": "light"
     },
     "output_type": "display_data"
    }
   ],
   "source": [
    "class_names=[0,1] # name of classes\n",
    "fig, ax = plt.subplots()\n",
    "tick_marks = np.arange(len(class_names))\n",
    "plt.xticks(tick_marks, class_names)\n",
    "plt.yticks(tick_marks, class_names)\n",
    "\n",
    "# The heatmap requires that we pass in a dataframe as the argument\n",
    "sns.heatmap(pd.DataFrame(confusion_matrix), annot=True, cmap=\"YlGnBu\", fmt=\"g\")\n",
    "\n",
    "# Configure the heatmap parameters\n",
    "ax.xaxis.set_label_position(\"top\")\n",
    "plt.tight_layout()\n",
    "plt.title('Confusion matrix', y=1.1)\n",
    "plt.ylabel('Actual label')\n",
    "plt.xlabel('Predicted label')"
   ]
  },
  {
   "cell_type": "code",
   "execution_count": 20,
   "metadata": {},
   "outputs": [
    {
     "name": "stdout",
     "output_type": "stream",
     "text": [
      "Accuracy: 0.8766233766233766\n",
      "Precision: 0.8666666666666667\n",
      "Recall: 0.9719626168224299\n"
     ]
    }
   ],
   "source": [
    "# Print out our performance metrics\n",
    "print(\"Accuracy:\",metrics.accuracy_score(y_test, y_pred))\n",
    "print(\"Precision:\",metrics.precision_score(y_test, y_pred, pos_label='Y'))\n",
    "print(\"Recall:\",metrics.recall_score(y_test, y_pred, pos_label='Y'))"
   ]
  },
  {
   "cell_type": "markdown",
   "metadata": {},
   "source": [
    "## Resources and Additional Readings\n",
    "\n",
    "Seaborn: https://seaborn.pydata.org/tutorial.html  \n",
    "Understanding Logistic Regression: https://towardsdatascience.com/understanding-logistic-regression-9b02c2aec102  \n",
    "Newton Conjugate Gradient Optimization: https://en.wikipedia.org/wiki/Nonlinear_conjugate_gradient_method  \n",
    "The Data Science Pipeline: https://towardsdatascience.com/a-beginners-guide-to-the-data-science-pipeline-a4904b2d8ad3  \n",
    "Support Vector Machines vs Logistic Regression: https://towardsdatascience.com/support-vector-machine-vs-logistic-regression-94cc2975433f  \n",
    "Does balancing classes improve classifier performance: http://www.win-vector.com/blog/2015/02/does-balancing-classes-improve-classifier-performance/"
   ]
  },
  {
   "cell_type": "code",
   "execution_count": null,
   "metadata": {},
   "outputs": [],
   "source": []
  }
 ],
 "metadata": {
  "kernelspec": {
   "display_name": "Python 3",
   "language": "python",
   "name": "python3"
  },
  "language_info": {
   "codemirror_mode": {
    "name": "ipython",
    "version": 3
   },
   "file_extension": ".py",
   "mimetype": "text/x-python",
   "name": "python",
   "nbconvert_exporter": "python",
   "pygments_lexer": "ipython3",
   "version": "3.7.1"
  }
 },
 "nbformat": 4,
 "nbformat_minor": 2
}
